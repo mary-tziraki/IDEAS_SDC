{
 "cells": [
  {
   "cell_type": "markdown",
   "metadata": {},
   "source": [
    "# Medical Images"
   ]
  },
  {
   "cell_type": "markdown",
   "metadata": {},
   "source": [
    "Rather than using a camera to take images, there are many medical devices that can acquire images useful for the detection and diagnosis of diseases.\n",
    "\n",
    "These can be 2D (X-ray) or 3D (MRI). On this course, we will focus on images from **M**agnetic **R**esonance **I**maging (**MRI**)."
   ]
  },
  {
   "cell_type": "markdown",
   "metadata": {},
   "source": [
    "<img src=\"https://sdbif.org/index/wp-content/uploads/2020/02/Head_Scans2.jpg\" alt=\"Drawing\" align=\"middle\" width=\"500px\"/>"
   ]
  },
  {
   "cell_type": "markdown",
   "metadata": {},
   "source": [
    "We use the same pixel (or voxel) information discussed in previous notebooks to visualise biological properties in living people. \n",
    "\n",
    "In order to visualise our images, first we need to transfer them from the scanner to our computer."
   ]
  },
  {
   "cell_type": "markdown",
   "metadata": {},
   "source": [
    "# From the scanner to our computer"
   ]
  },
  {
   "cell_type": "markdown",
   "metadata": {},
   "source": [
    "## Neuroimaging file formats\n",
    "\n",
    "|Format Name | File Extension | Origin |\n",
    "|---|---|---|\n",
    "| DICOM | none | ACR/NEMA Consortium |\n",
    "| Analyze | .img/.hdr | Analyze Software, Mayo Clinic |\n",
    "| NIfTI | .nii | Neuroimaging Informatics Technology Initiative |\n",
    "| MINC | .mnc | Montreal Neurological Institute |\n",
    "| NRRD | .nrrd | |\n",
    "\n",
    "From the MRI scanner, images are initially collected in the DICOM format and can be converted to these other formats to make working with the data easier.\n",
    "\n",
    "<img src=\"../fig/dicom_to_nifti.png\" alt=\"Drawing\" align=\"middle\" width=\"600px\"/>\n",
    "\n",
    "Let's download some example DICOM data to see what it looks like.\n",
    "This data was generously shared publicly by the [Princeton Handbook for Reproducible Neuroimaging](https://brainhack-princeton.github.io/handbook/)."
   ]
  },
  {
   "cell_type": "markdown",
   "metadata": {},
   "source": [
    "We can use commands from the UNIX terminal in a jupyter notebook by putting `%%bash` at the top of a code cell.\n",
    "Lets use a UNIX terminal command to list files in the directory."
   ]
  },
  {
   "cell_type": "code",
   "execution_count": null,
   "metadata": {},
   "outputs": [],
   "source": [
    "%%bash\n",
    "ls -l"
   ]
  },
  {
   "cell_type": "markdown",
   "metadata": {},
   "source": [
    "Now lets use the UNIX terminal to download some DICOM data from the internet. See comments in the code block below that explains each command.\n"
   ]
  },
  {
   "cell_type": "code",
   "execution_count": null,
   "metadata": {},
   "outputs": [],
   "source": [
    "%%bash\n",
    "\n",
    "# Download the DICOM data using the wget command\n",
    "wget https://zenodo.org/record/3677090/files/0219191_mystudy-0219-1114.tar.gz -O ../data/0219191_mystudy-0219-1114.tar.gz\n",
    "\n",
    "# Make a new directory for the DICOM data using the mkdir command\n",
    "mkdir -p ../data/dicom_examples\n",
    "\n",
    "# Unzip the DICOM data into this new directory using the tar command\n",
    "tar -xvzf ../data/0219191_mystudy-0219-1114.tar.gz -C ../data/dicom_examples\n",
    "\n",
    "# Compress each DICOM file using the gzip command\n",
    "gzip -d ../data/dicom_examples/0219191_mystudy-0219-1114/dcm/*dcm.gz\n",
    "\n",
    "# Clean up by deleting the original file we downloaded using the rm command\n",
    "rm ../data/0219191_mystudy-0219-1114.tar.gz"
   ]
  },
  {
   "cell_type": "markdown",
   "metadata": {},
   "source": [
    "NIfTI is one of the most ubiquitous file formats for storing neuroimaging data.\n",
    "If you're interested in learning more about NIfTI images, we highly recommend [this blog post about the NIfTI format](http://brainder.org/2012/09/23/the-nifti-file-format/).\n",
    "We can convert our DICOM data to NIfTI using [dcm2niix](https://github.com/rordenlab/dcm2niix).\n",
    "\n",
    "We can learn how to run `dcm2niix` by taking a look at its help menu."
   ]
  },
  {
   "cell_type": "code",
   "execution_count": null,
   "metadata": {},
   "outputs": [],
   "source": [
    "%%bash\n",
    "\n",
    "dcm2niix -help"
   ]
  },
  {
   "cell_type": "markdown",
   "metadata": {},
   "source": [
    "### Converting DICOM to NIfTI\n",
    "When converting DICOM files to NIfTI format, we often want to:\n",
    "1. Output the NIfTI files into a new folder to separate them from DICOMs.\n",
    "2. Compress the NIfTI files to save space.\n",
    "\n",
    "Can you use the `dcm2niix` command to convert the DICOMS we downloaded into NIfTI format? Use commands from the `%%bash` cells and the `dcm2niix` help information above to help you.\n"
   ]
  },
  {
   "cell_type": "markdown",
   "metadata": {
    "solution2": "hidden",
    "solution2_first": true
   },
   "source": [
    "<b>EXERCISE:</b> Convert the Princeton DICOM data to NIfTI"
   ]
  },
  {
   "cell_type": "code",
   "execution_count": null,
   "metadata": {
    "solution2": "hidden"
   },
   "outputs": [],
   "source": [
    "%%bash\n",
    "\n",
    "mkdir -p ../data/dicom_examples/nii\n",
    "dcm2niix \\\n",
    "    -z y \\\n",
    "    -o ../data/dicom_examples/nii \\\n",
    "    ../data/dicom_examples/0219191_mystudy-0219-1114/dcm"
   ]
  },
  {
   "cell_type": "code",
   "execution_count": null,
   "metadata": {},
   "outputs": [],
   "source": []
  }
 ],
 "metadata": {
  "kernelspec": {
   "display_name": "Python 3 (ipykernel)",
   "language": "python",
   "name": "python3"
  },
  "language_info": {
   "codemirror_mode": {
    "name": "ipython",
    "version": 3
   },
   "file_extension": ".py",
   "mimetype": "text/x-python",
   "name": "python",
   "nbconvert_exporter": "python",
   "pygments_lexer": "ipython3",
   "version": "3.9.12"
  }
 },
 "nbformat": 4,
 "nbformat_minor": 4
}
